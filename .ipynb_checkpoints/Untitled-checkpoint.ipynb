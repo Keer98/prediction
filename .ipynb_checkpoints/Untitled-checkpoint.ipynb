{
 "cells": [
  {
   "cell_type": "raw",
   "source": [],
   "metadata": {
    "collapsed": false
   },
   "id": "37f94b7d79454082"
  }
 ],
 "metadata": {},
 "nbformat": 4,
 "nbformat_minor": 5
}
